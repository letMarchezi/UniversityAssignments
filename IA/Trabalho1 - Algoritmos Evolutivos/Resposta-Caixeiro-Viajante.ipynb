{
  "nbformat": 4,
  "nbformat_minor": 0,
  "metadata": {
    "colab": {
      "name": "IA.ipynb",
      "provenance": [],
      "collapsed_sections": []
    },
    "kernelspec": {
      "name": "python3",
      "display_name": "Python 3"
    },
    "language_info": {
      "name": "python"
    }
  },
  "cells": [
    {
      "cell_type": "markdown",
      "source": [
        "# Projeto de implementação 1\n",
        "### Problema do Caixeiro Viajante\n",
        "Alunos: Leticia Bossatto Marchezi (791003) e Luís Augusto Simas do Nascimento (790828)\n",
        "\n",
        "\n",
        "Disciplina: Inteligência Artificial\n",
        "\n",
        "\n",
        "Implementação de uma solução para o problema do Caixeiro Viajante usando algoritmos evolutivos."
      ],
      "metadata": {
        "id": "r9SgTzpvOrNG"
      }
    },
    {
      "cell_type": "markdown",
      "source": [
        "Importando bibliotecas"
      ],
      "metadata": {
        "id": "-bz46-A13_A2"
      }
    },
    {
      "cell_type": "code",
      "execution_count": null,
      "metadata": {
        "id": "qMCeq8hAph4d"
      },
      "outputs": [],
      "source": [
        "import numpy as np\n",
        "import random"
      ]
    },
    {
      "cell_type": "markdown",
      "source": [
        "## Variáveis globais"
      ],
      "metadata": {
        "id": "xABKIPY217P5"
      }
    },
    {
      "cell_type": "code",
      "source": [
        "qtde_cidades = 6\n",
        "qtde_populacao = 20\n",
        "max_geracoes = 50\n",
        "qtde_elite = 2"
      ],
      "metadata": {
        "id": "2RZBHXvkzGw9"
      },
      "execution_count": null,
      "outputs": []
    },
    {
      "cell_type": "markdown",
      "source": [
        "## Gerando as distâncias\n",
        "\n",
        "Gerando a matriz com distâncias aleatórias entre as cidades.\n",
        "Os índices x e y representam as cidades de origem e destino, sendo a matriz espelhada em relação a diagonal principal.\n"
      ],
      "metadata": {
        "id": "sF6u9ldGwKpH"
      }
    },
    {
      "cell_type": "code",
      "source": [
        "distancia = np.zeros((qtde_cidades,qtde_cidades), dtype=int)"
      ],
      "metadata": {
        "id": "pxT0ZCgnyWmt"
      },
      "execution_count": null,
      "outputs": []
    },
    {
      "cell_type": "code",
      "source": [
        "for x in range(qtde_cidades):\n",
        "  for y in range(x+1,qtde_cidades):\n",
        "      distancia[x][y] = random.randint(0,100)\n",
        "      distancia[y][x] = distancia[x][y]"
      ],
      "metadata": {
        "id": "UC3036iPuPz-"
      },
      "execution_count": null,
      "outputs": []
    },
    {
      "cell_type": "code",
      "source": [
        "distancia"
      ],
      "metadata": {
        "colab": {
          "base_uri": "https://localhost:8080/"
        },
        "id": "VXvPsK-aujnA",
        "outputId": "af0831ae-50a7-4e2e-fd70-beb35560a415"
      },
      "execution_count": null,
      "outputs": [
        {
          "output_type": "execute_result",
          "data": {
            "text/plain": [
              "array([[ 0, 99, 85, 65, 14, 36],\n",
              "       [99,  0, 80, 42, 49, 98],\n",
              "       [85, 80,  0, 62, 68, 30],\n",
              "       [65, 42, 62,  0, 86,  8],\n",
              "       [14, 49, 68, 86,  0, 43],\n",
              "       [36, 98, 30,  8, 43,  0]])"
            ]
          },
          "metadata": {},
          "execution_count": 153
        }
      ]
    },
    {
      "cell_type": "markdown",
      "source": [
        "## Representação dos indivíduos\n",
        "\n",
        "Os indivíduos são representados por um vetor de inteiros contendo as cidades visitadas em ordem. Note que a cidade 0 é omitida pois ela é, por convenção, sempre a cidade inicial e final. Além disso, a cidade 0 não é considerada como um dos valores possíveis do vetor, variando apenas entre o intervalo fechado $[1,5]$.\n",
        "\n",
        "Essa decisão foi tomada com base no fato de que, por definição, a primeira e a última cidade são sempre a cidade $0$, portanto omiti-las permite simplificar a representação dos indivíduos e, consequentemente, os operadores que atuam sobre estes."
      ],
      "metadata": {
        "id": "D0vjVt51SS6Z"
      }
    },
    {
      "cell_type": "markdown",
      "source": [
        "Por exemplo, uma solução possível para o problema é o caminho `0-1-3-2-4-5-0`, que é representado pelo vetor `[1, 3, 2, 4, 5]`"
      ],
      "metadata": {
        "id": "Y3Y77jxMTL9q"
      }
    },
    {
      "cell_type": "markdown",
      "source": [
        "## Implementação dos indivíduos da população inicial\n",
        "\n",
        "Os indivíduos são construídos usando arrays provenientes da biblioteca `numpy`. Um indivíduo é gerado pela função `randint` da biblioteca `random`, que sorteia 5 números aleatórios no intervalo $[1,5]$. \n",
        "\n",
        "Além disso, uma geração é um array de dimensão `[m][n-1]`, sendo `m` a quantidade de indivíduos da geração e `n` a quantidade de cidades. As gerações são declaradas com elementos nulos e cada indivíduo é atribuido em um laço de repetição."
      ],
      "metadata": {
        "id": "v_zh0uwEWKL0"
      }
    },
    {
      "cell_type": "code",
      "source": [
        "populacao = np.zeros((qtde_populacao, qtde_cidades - 1), dtype=int)\n",
        "for x in range(qtde_populacao):\n",
        "  for y in range(qtde_cidades - 1):\n",
        "    populacao[x][y] = random.randint(1, qtde_cidades - 1)"
      ],
      "metadata": {
        "id": "3NoXAOZcc6Z8"
      },
      "execution_count": null,
      "outputs": []
    },
    {
      "cell_type": "code",
      "source": [
        "populacao"
      ],
      "metadata": {
        "colab": {
          "base_uri": "https://localhost:8080/"
        },
        "id": "Qz2jkhxveO_M",
        "outputId": "84423d64-397e-4f74-aa5e-5dbede6a913d"
      },
      "execution_count": null,
      "outputs": [
        {
          "output_type": "execute_result",
          "data": {
            "text/plain": [
              "array([[2, 2, 2, 4, 4],\n",
              "       [1, 1, 4, 2, 2],\n",
              "       [1, 5, 2, 1, 3],\n",
              "       [3, 3, 3, 5, 5],\n",
              "       [2, 5, 1, 2, 1],\n",
              "       [5, 2, 2, 5, 3],\n",
              "       [2, 4, 2, 2, 2],\n",
              "       [5, 1, 2, 5, 4],\n",
              "       [5, 1, 2, 4, 5],\n",
              "       [3, 1, 3, 4, 3],\n",
              "       [2, 4, 5, 1, 2],\n",
              "       [5, 5, 5, 5, 1],\n",
              "       [2, 4, 2, 3, 3],\n",
              "       [5, 3, 5, 4, 3],\n",
              "       [3, 4, 4, 1, 3],\n",
              "       [1, 4, 1, 1, 3],\n",
              "       [1, 5, 3, 1, 4],\n",
              "       [3, 5, 3, 4, 5],\n",
              "       [5, 4, 4, 2, 5],\n",
              "       [2, 4, 5, 4, 5]])"
            ]
          },
          "metadata": {},
          "execution_count": 155
        }
      ]
    },
    {
      "cell_type": "markdown",
      "source": [
        "## Solução ótima\n",
        "\n",
        "Implementou-se também um algoritmo para obter a solução ótima com o objetivo de testar o algoritmo evolutivo. Esse algoritmo se baseia em um método de força bruta, gerando todas as permutações de caminhos possíveis (sem repetição de cidades) e minimizando a função de *fitness*, dessa forma encontrando a solução ótima (ou uma delas).\n",
        "\n",
        "Vale notar que, como não há restrições entre as distâncias entre as cidades ou a ordem do caminho, é possível que exista mais de uma solução ótima."
      ],
      "metadata": {
        "id": "HSg7bhs3Un62"
      }
    },
    {
      "cell_type": "code",
      "source": [
        "import itertools\n",
        "\n",
        "def solucao_otima():\n",
        "  permutations = list(itertools.permutations(range(1, qtde_cidades)))\n",
        "\n",
        "  fitnesses = list(map(fitness, permutations))\n",
        "  fit = min(fitnesses)\n",
        "  ind = permutations[fitnesses.index(fit)]\n",
        "\n",
        "  return {\n",
        "      \"fitness\": fit,\n",
        "      \"individuo\": ind\n",
        "  }"
      ],
      "metadata": {
        "id": "KcVN9VpWOQSg"
      },
      "execution_count": null,
      "outputs": []
    },
    {
      "cell_type": "markdown",
      "source": [
        "## Fitness\n",
        "\n",
        "A função de *fitness* calcula a distância total do caminho com base na matriz de distâncias. A distância total é dada pela soma simples das distâncias entre cada viagem do caminho. Note que como os indivíduos são representados omitindo a cidade inicial e final (pois são sempre a cidade 0), é necessário uma lógica adicional para calcular a distância da primeira e última viagem.\n",
        "\n",
        "Note também que no processo de obtenção da população inicial não são realizadas nenhuma verificação de que os indivíduos representam um caminho que passa por todas as cidades. Dessa forma, é necessário implementar alguma forma de penalizar os indivíduos que infringem as regras estabelecidas na definição do problema. Essa penalização foi implementada na própria função de fitness, através da adição do produto do número de cidades que não foram percorridas por um fator arbitrário `e`.\n",
        "\n",
        "Veja ainda que como o problema trata de minimizar a distância do trajeto, quanto **menor** a função de fitness, **mais apto** é o indivíduo, e esse fato é assumido ao longo do algoritmo, principalmente na implementação dos operadores evolutivos."
      ],
      "metadata": {
        "id": "8FRop1ZV5Rpa"
      }
    },
    {
      "cell_type": "code",
      "source": [
        "def fitness(ind):\n",
        "  f = 0 # fitness\n",
        "  c = 0 # cidades faltando\n",
        "  e = 1000 # penalização\n",
        "\n",
        "  for i in range(qtde_cidades):\n",
        "    anterior = 0 if i == 0 else ind[i - 1]\n",
        "    atual = 0 if i == qtde_cidades - 1 else ind[i]\n",
        "    f += distancia[anterior][atual]\n",
        "\n",
        "  c = qtde_cidades - 1 - len(np.unique(ind))\n",
        "  \n",
        "  return f + c * e\n",
        "\n",
        "def fitness_populacao(populacao):\n",
        "  return list(map(fitness, populacao))"
      ],
      "metadata": {
        "id": "Enzba8Sk6h-I"
      },
      "execution_count": null,
      "outputs": []
    },
    {
      "cell_type": "markdown",
      "source": [
        "## Seleção proporcional\n",
        "\n",
        "A forma de seleção de indivíduos para o cruzamento ocorre de acordo com o valor calculado pela função *fitness*. Como explicitado, quanto menor o valor de fitness do indivíduo, mais apto ele é, logo a probabilidade de um indivíduo ser sorteado deve ser proporcional ao inverso do seu valor de fitness.\n",
        "\n",
        "A escolha é feita a partir do método `choices` da biblioteca `random`, que permite o sorteio de elementos com pesos, definindo a probabilidade do indivíduo entre a população inteira.\n",
        "\n",
        "Por fim, a função garante que dois elementos diferentes sejam escolhidos.\n"
      ],
      "metadata": {
        "id": "x8Eyg_phHoPw"
      }
    },
    {
      "cell_type": "code",
      "source": [
        "def selecao_proporcional(populacao):\n",
        "  fit = fitness_populacao(populacao)\n",
        "  fit_inverso = list(map(lambda x: 1 / x, fit))\n",
        "  ind1 = 0\n",
        "  ind2 = 0\n",
        "  \n",
        "  while np.array_equal(ind1, ind2):\n",
        "    ind1, ind2 = random.choices(populacao, weights = fit_inverso, k = 2)\n",
        "\n",
        "  return ind1, ind2"
      ],
      "metadata": {
        "id": "Wk5hWKVOHn4x"
      },
      "execution_count": null,
      "outputs": []
    },
    {
      "cell_type": "markdown",
      "source": [
        "## Cruzamento\n",
        "Cruza os elementos de 2 indivíduos até um ponto aleatório, exceto extremidades"
      ],
      "metadata": {
        "id": "yUT8WjkJNaTu"
      }
    },
    {
      "cell_type": "code",
      "source": [
        "def cruzamento(ind1, ind2):\n",
        "  ponto_cruzamento = random.randint(1, qtde_cidades - 2)\n",
        "  \n",
        "  filho1 = np.concatenate([ind1[:ponto_cruzamento], ind2[ponto_cruzamento:]])\n",
        "  filho2 = np.concatenate([ind2[:ponto_cruzamento], ind1[ponto_cruzamento:]])\n",
        "\n",
        "  return filho1, filho2\n"
      ],
      "metadata": {
        "id": "H2p15GAUNbxj"
      },
      "execution_count": null,
      "outputs": []
    },
    {
      "cell_type": "markdown",
      "source": [
        "## Mutação\n",
        "\n",
        "\n",
        "A mutação dos indivíduos se dá pela troca de posição entre elementos de um genoma. Esse método foi escolhido pois provoca a alteração de trajeto, já que a posição das cidades é relevante para o problema. Assim, essa ação interefere diretamente no valor da função *fitness* e pode gerar caminhos mais otimizados ou não.\n",
        "\n",
        "Porém, o sistema de mutação não implica na adição de uma cidade nova no trajeto, sendo o cruzamento o responsável por tal efeito."
      ],
      "metadata": {
        "id": "AJYKRd4R4gMk"
      }
    },
    {
      "cell_type": "code",
      "source": [
        "def mutacao(ind, taxa = 0.5):\n",
        "  if random.choices([True, False], weights = [taxa, 1 - taxa]):\n",
        "    i = random.randint(0, len(ind) - 1)\n",
        "    j = random.randint(0, len(ind) - 1)\n",
        "  \n",
        "    ind[i], ind[j] = ind[j], ind[i]\n",
        "\n",
        "  return ind\n"
      ],
      "metadata": {
        "id": "WvbmCt6k4i-V"
      },
      "execution_count": null,
      "outputs": []
    },
    {
      "cell_type": "markdown",
      "source": [
        "## Elitismo\n",
        "\n",
        "O objetivo do elitismo é manter uma seleção dos $n$ melhores indivíduos para a próxima geração. A implementação da função de elitismo nesse caso é simples, sendo possível especificar através de um parâmetros o número de indivíduos a mantido da população."
      ],
      "metadata": {
        "id": "f7VxQdqr8dko"
      }
    },
    {
      "cell_type": "code",
      "source": [
        "def elitismo(populacao, n):\n",
        "  elite = sorted(populacao, key = fitness)\n",
        "\n",
        "  return elite[0:n]"
      ],
      "metadata": {
        "id": "XzOtB5Tw8ci0"
      },
      "execution_count": null,
      "outputs": []
    },
    {
      "cell_type": "markdown",
      "source": [
        "# Programa Principal\n",
        "\n",
        "O programa executa um laço de repetição enquanto o número de gerações não alcançar o limite estabelecido ou até que uma das soluções ótimas seja gerada.\n",
        "\n",
        "A cada iteração, os `n` elementos com melhor *fitness* são selecionados por elitismo e armazenados na nova população. Após isso, ocorre o cruzamento entre os indivíduos e a mutação entre os filhos, gerando a população da próxima iteração.\n",
        "\n"
      ],
      "metadata": {
        "id": "8ifZk_A1-0l3"
      }
    },
    {
      "cell_type": "code",
      "source": [
        "import functools\n",
        "otimo = solucao_otima()\n",
        "i = 0\n",
        "\n",
        "# Helper para exibir as estatísticas de cada geração\n",
        "def print_ind(ind, n):\n",
        "  caminho = np.concatenate([[0], ind, [0]])\n",
        "  fit = fitness(ind)\n",
        "  fit_pop = fitness_populacao(populacao)\n",
        "  media_fit = functools.reduce(lambda a, x: a + x, fit_pop) / qtde_populacao\n",
        "\n",
        "  print(\"{:02d} \".format(n), \" \", caminho, \" \", fit,\" \", media_fit)\n",
        "  \n",
        "print(\"gen   melhor            fit   média população \")\n",
        "\n",
        "while i < max_geracoes and fitness(elitismo(populacao, 1)[0]) != otimo[\"fitness\"]:\n",
        "  populacao_nova = np.zeros((qtde_populacao,qtde_cidades - 1), dtype=int)\n",
        "\n",
        "  fit = fitness_populacao(populacao)\n",
        "  \n",
        "  elite = elitismo(populacao, qtde_elite)\n",
        "  print_ind(elite[0], i)\n",
        "  populacao_nova[0:qtde_elite] = elite\n",
        "  \n",
        "  for num_filhos in range(qtde_elite,qtde_populacao, 2):\n",
        "    pai1, pai2 = selecao_proporcional(populacao)\n",
        "    filhos = cruzamento(pai1, pai2)\n",
        "    mutados = list(map(mutacao, filhos))\n",
        "    populacao_nova[num_filhos:num_filhos + 2] = mutados\n",
        "\n",
        "  populacao = populacao_nova.copy()\n",
        "  i = i + 1\n",
        "\n",
        "elite = elitismo(populacao, qtde_elite)\n",
        "\n",
        "print_ind(elite[0], i)\n",
        "\n",
        "print()\n",
        "print(\"solução ótima:      \", np.concatenate([[0], otimo[\"individuo\"], [0]]), \" \", otimo[\"fitness\"])\n",
        "print(\"solução encontrada: \", np.concatenate([[0], elite[0], [0]]), \" \", fitness(elite[0]))"
      ],
      "metadata": {
        "colab": {
          "base_uri": "https://localhost:8080/"
        },
        "id": "u9XtDVDP_LLS",
        "outputId": "e5d2e2c9-d296-42d1-98a9-6c4455fb7118"
      },
      "execution_count": null,
      "outputs": [
        {
          "output_type": "stream",
          "name": "stdout",
          "text": [
            "gen   melhor            fit   média população \n",
            "00    [0 4 1 3 5 2 0]   228   1406.1\n",
            "\n",
            "solução ótima:       [0 2 5 3 1 4 0]   228\n",
            "solução encontrada:  [0 4 1 3 5 2 0]   228\n"
          ]
        }
      ]
    }
  ]
}