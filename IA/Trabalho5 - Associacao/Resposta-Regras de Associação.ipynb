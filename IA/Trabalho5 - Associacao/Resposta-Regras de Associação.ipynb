{
  "nbformat": 4,
  "nbformat_minor": 0,
  "metadata": {
    "colab": {
      "name": "Associacao_IA",
      "provenance": [],
      "collapsed_sections": []
    },
    "kernelspec": {
      "name": "python3",
      "display_name": "Python 3"
    },
    "language_info": {
      "name": "python"
    }
  },
  "cells": [
    {
      "cell_type": "markdown",
      "source": [
        "# Regras de associação"
      ],
      "metadata": {
        "id": "_yW8SePxrhCa"
      }
    },
    {
      "cell_type": "markdown",
      "source": [
        "Alunos: \n",
        "\n",
        "        Leticia Bossatto Marchezi        | RA: 791003\n",
        "        Luís Augusto Simas do Nascimento | RA: 790828"
      ],
      "metadata": {
        "id": "SNNIJisjzw6m"
      }
    },
    {
      "cell_type": "markdown",
      "source": [
        "Instalação e importação da biblioteca `efficient-apriori`."
      ],
      "metadata": {
        "id": "cIZUfl_Iav6M"
      }
    },
    {
      "cell_type": "code",
      "execution_count": 54,
      "metadata": {
        "colab": {
          "base_uri": "https://localhost:8080/"
        },
        "id": "c1HxLIpqoX19",
        "outputId": "d9f986dc-ffb0-4d67-fef4-c3d40a8346bc"
      },
      "outputs": [
        {
          "output_type": "stream",
          "name": "stdout",
          "text": [
            "Requirement already satisfied: efficient-apriori in /usr/local/lib/python3.7/dist-packages (2.0.1)\n"
          ]
        }
      ],
      "source": [
        "pip install efficient-apriori"
      ]
    },
    {
      "cell_type": "code",
      "source": [
        "from efficient_apriori import apriori"
      ],
      "metadata": {
        "id": "FhaSEN7aVvCz"
      },
      "execution_count": 55,
      "outputs": []
    },
    {
      "cell_type": "markdown",
      "source": [
        "## Preparação do conjunto de dados"
      ],
      "metadata": {
        "id": "4spZH9UGacCY"
      }
    },
    {
      "cell_type": "markdown",
      "source": [
        "Escolheu-se um conjunto de dados referente a prescrição de lentes de contato para pacientes com base em características e sintomas descritas pelos atributos."
      ],
      "metadata": {
        "id": "AW7GUCJkauRY"
      }
    },
    {
      "cell_type": "markdown",
      "source": [
        "http://archive.ics.uci.edu/ml/datasets/Lenses"
      ],
      "metadata": {
        "id": "iANyMfPkzUnW"
      }
    },
    {
      "cell_type": "markdown",
      "source": [
        "O conjunto de dados escolhido não possui *header*, portanto foi necessário rotular os atributos no momento da leitura do arquivo csv."
      ],
      "metadata": {
        "id": "AgiRLog3bffs"
      }
    },
    {
      "cell_type": "code",
      "source": [
        "import pandas as pd \n",
        "\n",
        "url='https://drive.google.com/uc?id=1qeumgMhUg1LC4GoWAQynVcOxxlqzWOTV'\n",
        "df = pd.read_csv(url,header=None,names=[\"age\",\"prescription\",\"astigmatic\", \"tearProductionRate\",\"classe\"],sep=\"  \",engine='python')"
      ],
      "metadata": {
        "id": "vmRVulk8rZal"
      },
      "execution_count": 56,
      "outputs": []
    },
    {
      "cell_type": "markdown",
      "source": [
        "Após ler o conjunto de dados, o primeiro passo para o tratamento foi a remoção do atributo de classe."
      ],
      "metadata": {
        "id": "B1dYHrVObcLG"
      }
    },
    {
      "cell_type": "code",
      "source": [
        "df.drop(columns=\"classe\",inplace=True)\n",
        "df.head()"
      ],
      "metadata": {
        "id": "6Qj6qVObuHoC",
        "colab": {
          "base_uri": "https://localhost:8080/",
          "height": 206
        },
        "outputId": "a2d529eb-8b50-4bca-ff8e-9a45a7febc6e"
      },
      "execution_count": 57,
      "outputs": [
        {
          "output_type": "execute_result",
          "data": {
            "text/plain": [
              "   age  prescription  astigmatic  tearProductionRate\n",
              "1    1             1           1                   1\n",
              "2    1             1           1                   2\n",
              "3    1             1           2                   1\n",
              "4    1             1           2                   2\n",
              "5    1             2           1                   1"
            ],
            "text/html": [
              "\n",
              "  <div id=\"df-a346db19-dc9f-4bd5-acc7-df6e4f578c8e\">\n",
              "    <div class=\"colab-df-container\">\n",
              "      <div>\n",
              "<style scoped>\n",
              "    .dataframe tbody tr th:only-of-type {\n",
              "        vertical-align: middle;\n",
              "    }\n",
              "\n",
              "    .dataframe tbody tr th {\n",
              "        vertical-align: top;\n",
              "    }\n",
              "\n",
              "    .dataframe thead th {\n",
              "        text-align: right;\n",
              "    }\n",
              "</style>\n",
              "<table border=\"1\" class=\"dataframe\">\n",
              "  <thead>\n",
              "    <tr style=\"text-align: right;\">\n",
              "      <th></th>\n",
              "      <th>age</th>\n",
              "      <th>prescription</th>\n",
              "      <th>astigmatic</th>\n",
              "      <th>tearProductionRate</th>\n",
              "    </tr>\n",
              "  </thead>\n",
              "  <tbody>\n",
              "    <tr>\n",
              "      <th>1</th>\n",
              "      <td>1</td>\n",
              "      <td>1</td>\n",
              "      <td>1</td>\n",
              "      <td>1</td>\n",
              "    </tr>\n",
              "    <tr>\n",
              "      <th>2</th>\n",
              "      <td>1</td>\n",
              "      <td>1</td>\n",
              "      <td>1</td>\n",
              "      <td>2</td>\n",
              "    </tr>\n",
              "    <tr>\n",
              "      <th>3</th>\n",
              "      <td>1</td>\n",
              "      <td>1</td>\n",
              "      <td>2</td>\n",
              "      <td>1</td>\n",
              "    </tr>\n",
              "    <tr>\n",
              "      <th>4</th>\n",
              "      <td>1</td>\n",
              "      <td>1</td>\n",
              "      <td>2</td>\n",
              "      <td>2</td>\n",
              "    </tr>\n",
              "    <tr>\n",
              "      <th>5</th>\n",
              "      <td>1</td>\n",
              "      <td>2</td>\n",
              "      <td>1</td>\n",
              "      <td>1</td>\n",
              "    </tr>\n",
              "  </tbody>\n",
              "</table>\n",
              "</div>\n",
              "      <button class=\"colab-df-convert\" onclick=\"convertToInteractive('df-a346db19-dc9f-4bd5-acc7-df6e4f578c8e')\"\n",
              "              title=\"Convert this dataframe to an interactive table.\"\n",
              "              style=\"display:none;\">\n",
              "        \n",
              "  <svg xmlns=\"http://www.w3.org/2000/svg\" height=\"24px\"viewBox=\"0 0 24 24\"\n",
              "       width=\"24px\">\n",
              "    <path d=\"M0 0h24v24H0V0z\" fill=\"none\"/>\n",
              "    <path d=\"M18.56 5.44l.94 2.06.94-2.06 2.06-.94-2.06-.94-.94-2.06-.94 2.06-2.06.94zm-11 1L8.5 8.5l.94-2.06 2.06-.94-2.06-.94L8.5 2.5l-.94 2.06-2.06.94zm10 10l.94 2.06.94-2.06 2.06-.94-2.06-.94-.94-2.06-.94 2.06-2.06.94z\"/><path d=\"M17.41 7.96l-1.37-1.37c-.4-.4-.92-.59-1.43-.59-.52 0-1.04.2-1.43.59L10.3 9.45l-7.72 7.72c-.78.78-.78 2.05 0 2.83L4 21.41c.39.39.9.59 1.41.59.51 0 1.02-.2 1.41-.59l7.78-7.78 2.81-2.81c.8-.78.8-2.07 0-2.86zM5.41 20L4 18.59l7.72-7.72 1.47 1.35L5.41 20z\"/>\n",
              "  </svg>\n",
              "      </button>\n",
              "      \n",
              "  <style>\n",
              "    .colab-df-container {\n",
              "      display:flex;\n",
              "      flex-wrap:wrap;\n",
              "      gap: 12px;\n",
              "    }\n",
              "\n",
              "    .colab-df-convert {\n",
              "      background-color: #E8F0FE;\n",
              "      border: none;\n",
              "      border-radius: 50%;\n",
              "      cursor: pointer;\n",
              "      display: none;\n",
              "      fill: #1967D2;\n",
              "      height: 32px;\n",
              "      padding: 0 0 0 0;\n",
              "      width: 32px;\n",
              "    }\n",
              "\n",
              "    .colab-df-convert:hover {\n",
              "      background-color: #E2EBFA;\n",
              "      box-shadow: 0px 1px 2px rgba(60, 64, 67, 0.3), 0px 1px 3px 1px rgba(60, 64, 67, 0.15);\n",
              "      fill: #174EA6;\n",
              "    }\n",
              "\n",
              "    [theme=dark] .colab-df-convert {\n",
              "      background-color: #3B4455;\n",
              "      fill: #D2E3FC;\n",
              "    }\n",
              "\n",
              "    [theme=dark] .colab-df-convert:hover {\n",
              "      background-color: #434B5C;\n",
              "      box-shadow: 0px 1px 3px 1px rgba(0, 0, 0, 0.15);\n",
              "      filter: drop-shadow(0px 1px 2px rgba(0, 0, 0, 0.3));\n",
              "      fill: #FFFFFF;\n",
              "    }\n",
              "  </style>\n",
              "\n",
              "      <script>\n",
              "        const buttonEl =\n",
              "          document.querySelector('#df-a346db19-dc9f-4bd5-acc7-df6e4f578c8e button.colab-df-convert');\n",
              "        buttonEl.style.display =\n",
              "          google.colab.kernel.accessAllowed ? 'block' : 'none';\n",
              "\n",
              "        async function convertToInteractive(key) {\n",
              "          const element = document.querySelector('#df-a346db19-dc9f-4bd5-acc7-df6e4f578c8e');\n",
              "          const dataTable =\n",
              "            await google.colab.kernel.invokeFunction('convertToInteractive',\n",
              "                                                     [key], {});\n",
              "          if (!dataTable) return;\n",
              "\n",
              "          const docLinkHtml = 'Like what you see? Visit the ' +\n",
              "            '<a target=\"_blank\" href=https://colab.research.google.com/notebooks/data_table.ipynb>data table notebook</a>'\n",
              "            + ' to learn more about interactive tables.';\n",
              "          element.innerHTML = '';\n",
              "          dataTable['output_type'] = 'display_data';\n",
              "          await google.colab.output.renderOutput(dataTable, element);\n",
              "          const docLink = document.createElement('div');\n",
              "          docLink.innerHTML = docLinkHtml;\n",
              "          element.appendChild(docLink);\n",
              "        }\n",
              "      </script>\n",
              "    </div>\n",
              "  </div>\n",
              "  "
            ]
          },
          "metadata": {},
          "execution_count": 57
        }
      ]
    },
    {
      "cell_type": "markdown",
      "source": [
        "Verificou-se que o conjunto de dados, apesar de conter apenas atributos nominais, atribui a eles valores numéricos para identificar cada característica possível. Tendo isso em vista, fez-se necessária a conversão dos atributos para uma representação mais semântica da característica descrita, tornando possível a extração de regras que contenham algum significado no contexto do problema."
      ],
      "metadata": {
        "id": "DBTG3Ls2b3BR"
      }
    },
    {
      "cell_type": "code",
      "source": [
        "age = {\n",
        "    '1': 'young',\n",
        "    '2': 'pre-presbyopic',\n",
        "    '3': 'presbyopic'\n",
        "}\n",
        "\n",
        "prescription = {\n",
        "     '1': 'myope',\n",
        "     '2': 'hypermetrope'\n",
        "}\n",
        "\n",
        "astigmatic = {\n",
        "    '1': 'non astigmatic', \n",
        "    '2': 'astigmatic'\n",
        "}\n",
        "\n",
        "tearProductionRate = {\n",
        "    '1': 'tear production rate reduced',\n",
        "    '2': 'tear production rate normal'\n",
        "}\n",
        "\n",
        "df['age'] = list(map(lambda x: age[str(x)], df['age']))\n",
        "df['prescription'] = list(map(lambda x: prescription[str(x)], df['prescription']))\n",
        "df['astigmatic'] = list(map(lambda x: astigmatic[str(x)], df['astigmatic']))\n",
        "df['tearProductionRate'] = list(map(lambda x: tearProductionRate[str(x)], df['tearProductionRate']))\n",
        "df.head()"
      ],
      "metadata": {
        "id": "Silur92UuKdI",
        "colab": {
          "base_uri": "https://localhost:8080/",
          "height": 206
        },
        "outputId": "a67e05f9-8f0d-4c95-bc1a-48db513ac0e5"
      },
      "execution_count": 58,
      "outputs": [
        {
          "output_type": "execute_result",
          "data": {
            "text/plain": [
              "     age  prescription      astigmatic            tearProductionRate\n",
              "1  young         myope  non astigmatic  tear production rate reduced\n",
              "2  young         myope  non astigmatic   tear production rate normal\n",
              "3  young         myope      astigmatic  tear production rate reduced\n",
              "4  young         myope      astigmatic   tear production rate normal\n",
              "5  young  hypermetrope  non astigmatic  tear production rate reduced"
            ],
            "text/html": [
              "\n",
              "  <div id=\"df-52b4bd28-f85a-4858-8424-a99ca829d37a\">\n",
              "    <div class=\"colab-df-container\">\n",
              "      <div>\n",
              "<style scoped>\n",
              "    .dataframe tbody tr th:only-of-type {\n",
              "        vertical-align: middle;\n",
              "    }\n",
              "\n",
              "    .dataframe tbody tr th {\n",
              "        vertical-align: top;\n",
              "    }\n",
              "\n",
              "    .dataframe thead th {\n",
              "        text-align: right;\n",
              "    }\n",
              "</style>\n",
              "<table border=\"1\" class=\"dataframe\">\n",
              "  <thead>\n",
              "    <tr style=\"text-align: right;\">\n",
              "      <th></th>\n",
              "      <th>age</th>\n",
              "      <th>prescription</th>\n",
              "      <th>astigmatic</th>\n",
              "      <th>tearProductionRate</th>\n",
              "    </tr>\n",
              "  </thead>\n",
              "  <tbody>\n",
              "    <tr>\n",
              "      <th>1</th>\n",
              "      <td>young</td>\n",
              "      <td>myope</td>\n",
              "      <td>non astigmatic</td>\n",
              "      <td>tear production rate reduced</td>\n",
              "    </tr>\n",
              "    <tr>\n",
              "      <th>2</th>\n",
              "      <td>young</td>\n",
              "      <td>myope</td>\n",
              "      <td>non astigmatic</td>\n",
              "      <td>tear production rate normal</td>\n",
              "    </tr>\n",
              "    <tr>\n",
              "      <th>3</th>\n",
              "      <td>young</td>\n",
              "      <td>myope</td>\n",
              "      <td>astigmatic</td>\n",
              "      <td>tear production rate reduced</td>\n",
              "    </tr>\n",
              "    <tr>\n",
              "      <th>4</th>\n",
              "      <td>young</td>\n",
              "      <td>myope</td>\n",
              "      <td>astigmatic</td>\n",
              "      <td>tear production rate normal</td>\n",
              "    </tr>\n",
              "    <tr>\n",
              "      <th>5</th>\n",
              "      <td>young</td>\n",
              "      <td>hypermetrope</td>\n",
              "      <td>non astigmatic</td>\n",
              "      <td>tear production rate reduced</td>\n",
              "    </tr>\n",
              "  </tbody>\n",
              "</table>\n",
              "</div>\n",
              "      <button class=\"colab-df-convert\" onclick=\"convertToInteractive('df-52b4bd28-f85a-4858-8424-a99ca829d37a')\"\n",
              "              title=\"Convert this dataframe to an interactive table.\"\n",
              "              style=\"display:none;\">\n",
              "        \n",
              "  <svg xmlns=\"http://www.w3.org/2000/svg\" height=\"24px\"viewBox=\"0 0 24 24\"\n",
              "       width=\"24px\">\n",
              "    <path d=\"M0 0h24v24H0V0z\" fill=\"none\"/>\n",
              "    <path d=\"M18.56 5.44l.94 2.06.94-2.06 2.06-.94-2.06-.94-.94-2.06-.94 2.06-2.06.94zm-11 1L8.5 8.5l.94-2.06 2.06-.94-2.06-.94L8.5 2.5l-.94 2.06-2.06.94zm10 10l.94 2.06.94-2.06 2.06-.94-2.06-.94-.94-2.06-.94 2.06-2.06.94z\"/><path d=\"M17.41 7.96l-1.37-1.37c-.4-.4-.92-.59-1.43-.59-.52 0-1.04.2-1.43.59L10.3 9.45l-7.72 7.72c-.78.78-.78 2.05 0 2.83L4 21.41c.39.39.9.59 1.41.59.51 0 1.02-.2 1.41-.59l7.78-7.78 2.81-2.81c.8-.78.8-2.07 0-2.86zM5.41 20L4 18.59l7.72-7.72 1.47 1.35L5.41 20z\"/>\n",
              "  </svg>\n",
              "      </button>\n",
              "      \n",
              "  <style>\n",
              "    .colab-df-container {\n",
              "      display:flex;\n",
              "      flex-wrap:wrap;\n",
              "      gap: 12px;\n",
              "    }\n",
              "\n",
              "    .colab-df-convert {\n",
              "      background-color: #E8F0FE;\n",
              "      border: none;\n",
              "      border-radius: 50%;\n",
              "      cursor: pointer;\n",
              "      display: none;\n",
              "      fill: #1967D2;\n",
              "      height: 32px;\n",
              "      padding: 0 0 0 0;\n",
              "      width: 32px;\n",
              "    }\n",
              "\n",
              "    .colab-df-convert:hover {\n",
              "      background-color: #E2EBFA;\n",
              "      box-shadow: 0px 1px 2px rgba(60, 64, 67, 0.3), 0px 1px 3px 1px rgba(60, 64, 67, 0.15);\n",
              "      fill: #174EA6;\n",
              "    }\n",
              "\n",
              "    [theme=dark] .colab-df-convert {\n",
              "      background-color: #3B4455;\n",
              "      fill: #D2E3FC;\n",
              "    }\n",
              "\n",
              "    [theme=dark] .colab-df-convert:hover {\n",
              "      background-color: #434B5C;\n",
              "      box-shadow: 0px 1px 3px 1px rgba(0, 0, 0, 0.15);\n",
              "      filter: drop-shadow(0px 1px 2px rgba(0, 0, 0, 0.3));\n",
              "      fill: #FFFFFF;\n",
              "    }\n",
              "  </style>\n",
              "\n",
              "      <script>\n",
              "        const buttonEl =\n",
              "          document.querySelector('#df-52b4bd28-f85a-4858-8424-a99ca829d37a button.colab-df-convert');\n",
              "        buttonEl.style.display =\n",
              "          google.colab.kernel.accessAllowed ? 'block' : 'none';\n",
              "\n",
              "        async function convertToInteractive(key) {\n",
              "          const element = document.querySelector('#df-52b4bd28-f85a-4858-8424-a99ca829d37a');\n",
              "          const dataTable =\n",
              "            await google.colab.kernel.invokeFunction('convertToInteractive',\n",
              "                                                     [key], {});\n",
              "          if (!dataTable) return;\n",
              "\n",
              "          const docLinkHtml = 'Like what you see? Visit the ' +\n",
              "            '<a target=\"_blank\" href=https://colab.research.google.com/notebooks/data_table.ipynb>data table notebook</a>'\n",
              "            + ' to learn more about interactive tables.';\n",
              "          element.innerHTML = '';\n",
              "          dataTable['output_type'] = 'display_data';\n",
              "          await google.colab.output.renderOutput(dataTable, element);\n",
              "          const docLink = document.createElement('div');\n",
              "          docLink.innerHTML = docLinkHtml;\n",
              "          element.appendChild(docLink);\n",
              "        }\n",
              "      </script>\n",
              "    </div>\n",
              "  </div>\n",
              "  "
            ]
          },
          "metadata": {},
          "execution_count": 58
        }
      ]
    },
    {
      "cell_type": "markdown",
      "source": [
        "Após a conversão dos atributos, foi possível verificar que todos os atributos do conjunto possuem algum valor, ou seja, não há atributos nulos no conjunto."
      ],
      "metadata": {
        "id": "D9r-D-R9clYX"
      }
    },
    {
      "cell_type": "code",
      "source": [
        "df.info()"
      ],
      "metadata": {
        "colab": {
          "base_uri": "https://localhost:8080/"
        },
        "id": "ax5NmbYNUAuw",
        "outputId": "3c36e61a-90d7-45fd-9d98-de1f3123c952"
      },
      "execution_count": 59,
      "outputs": [
        {
          "output_type": "stream",
          "name": "stdout",
          "text": [
            "<class 'pandas.core.frame.DataFrame'>\n",
            "Int64Index: 24 entries, 1 to 24\n",
            "Data columns (total 4 columns):\n",
            " #   Column              Non-Null Count  Dtype \n",
            "---  ------              --------------  ----- \n",
            " 0   age                 24 non-null     object\n",
            " 1   prescription        24 non-null     object\n",
            " 2   astigmatic          24 non-null     object\n",
            " 3   tearProductionRate  24 non-null     object\n",
            "dtypes: object(4)\n",
            "memory usage: 960.0+ bytes\n"
          ]
        }
      ]
    },
    {
      "cell_type": "markdown",
      "source": [
        "O próximo passo se deu através da conversão do *dataframe* para o formato aceito pelo algoritmo: uma lista de tuplas."
      ],
      "metadata": {
        "id": "X-Q-_-OFc1lV"
      }
    },
    {
      "cell_type": "code",
      "source": [
        "t_list = [tuple(linha) for linha in df.values.tolist()]\n",
        "t_list"
      ],
      "metadata": {
        "id": "7X_mhwRUUPyF",
        "colab": {
          "base_uri": "https://localhost:8080/"
        },
        "outputId": "342fbcd6-b7ce-4457-a2e4-d9c10d3ffa47"
      },
      "execution_count": 60,
      "outputs": [
        {
          "output_type": "execute_result",
          "data": {
            "text/plain": [
              "[('young', 'myope', 'non astigmatic', 'tear production rate reduced'),\n",
              " ('young', 'myope', 'non astigmatic', 'tear production rate normal'),\n",
              " ('young', 'myope', 'astigmatic', 'tear production rate reduced'),\n",
              " ('young', 'myope', 'astigmatic', 'tear production rate normal'),\n",
              " ('young', 'hypermetrope', 'non astigmatic', 'tear production rate reduced'),\n",
              " ('young', 'hypermetrope', 'non astigmatic', 'tear production rate normal'),\n",
              " ('young', 'hypermetrope', 'astigmatic', 'tear production rate reduced'),\n",
              " ('young', 'hypermetrope', 'astigmatic', 'tear production rate normal'),\n",
              " ('pre-presbyopic', 'myope', 'non astigmatic', 'tear production rate reduced'),\n",
              " ('pre-presbyopic', 'myope', 'non astigmatic', 'tear production rate normal'),\n",
              " ('pre-presbyopic', 'myope', 'astigmatic', 'tear production rate reduced'),\n",
              " ('pre-presbyopic', 'myope', 'astigmatic', 'tear production rate normal'),\n",
              " ('pre-presbyopic',\n",
              "  'hypermetrope',\n",
              "  'non astigmatic',\n",
              "  'tear production rate reduced'),\n",
              " ('pre-presbyopic',\n",
              "  'hypermetrope',\n",
              "  'non astigmatic',\n",
              "  'tear production rate normal'),\n",
              " ('pre-presbyopic',\n",
              "  'hypermetrope',\n",
              "  'astigmatic',\n",
              "  'tear production rate reduced'),\n",
              " ('pre-presbyopic',\n",
              "  'hypermetrope',\n",
              "  'astigmatic',\n",
              "  'tear production rate normal'),\n",
              " ('presbyopic', 'myope', 'non astigmatic', 'tear production rate reduced'),\n",
              " ('presbyopic', 'myope', 'non astigmatic', 'tear production rate normal'),\n",
              " ('presbyopic', 'myope', 'astigmatic', 'tear production rate reduced'),\n",
              " ('presbyopic', 'myope', 'astigmatic', 'tear production rate normal'),\n",
              " ('presbyopic',\n",
              "  'hypermetrope',\n",
              "  'non astigmatic',\n",
              "  'tear production rate reduced'),\n",
              " ('presbyopic',\n",
              "  'hypermetrope',\n",
              "  'non astigmatic',\n",
              "  'tear production rate normal'),\n",
              " ('presbyopic', 'hypermetrope', 'astigmatic', 'tear production rate reduced'),\n",
              " ('presbyopic', 'hypermetrope', 'astigmatic', 'tear production rate normal')]"
            ]
          },
          "metadata": {},
          "execution_count": 60
        }
      ]
    },
    {
      "cell_type": "markdown",
      "source": [
        "## Extração das regras"
      ],
      "metadata": {
        "id": "jt-FDKylaklo"
      }
    },
    {
      "cell_type": "markdown",
      "source": [
        "Com o conjunto de dados devidamente limpo e formatado, basta aplicá-lo ao algoritmo de extração de regras. Para aplicação do algoritmo estabeleceu-se os valores mínimos de suporte e confiança como $0,2$ e $0,5$, respectivamente."
      ],
      "metadata": {
        "id": "uWm3MDP9dB4z"
      }
    },
    {
      "cell_type": "code",
      "source": [
        "itemsets, rules = apriori(t_list, min_support=0.2, min_confidence = 0.5)"
      ],
      "metadata": {
        "id": "WEHOqmF0Vo4I"
      },
      "execution_count": 61,
      "outputs": []
    },
    {
      "cell_type": "markdown",
      "source": [
        "É possível verificar os itemsets gerados."
      ],
      "metadata": {
        "id": "Iq9edIDkdL0I"
      }
    },
    {
      "cell_type": "code",
      "source": [
        "itemsets"
      ],
      "metadata": {
        "colab": {
          "base_uri": "https://localhost:8080/"
        },
        "id": "r0SvVVMgVq_Y",
        "outputId": "114448d0-1dce-4dfc-e217-f3888786507b"
      },
      "execution_count": 62,
      "outputs": [
        {
          "output_type": "execute_result",
          "data": {
            "text/plain": [
              "{1: {('astigmatic',): 12,\n",
              "  ('hypermetrope',): 12,\n",
              "  ('myope',): 12,\n",
              "  ('non astigmatic',): 12,\n",
              "  ('pre-presbyopic',): 8,\n",
              "  ('presbyopic',): 8,\n",
              "  ('tear production rate normal',): 12,\n",
              "  ('tear production rate reduced',): 12,\n",
              "  ('young',): 8},\n",
              " 2: {('astigmatic', 'hypermetrope'): 6,\n",
              "  ('astigmatic', 'myope'): 6,\n",
              "  ('astigmatic', 'tear production rate normal'): 6,\n",
              "  ('astigmatic', 'tear production rate reduced'): 6,\n",
              "  ('hypermetrope', 'non astigmatic'): 6,\n",
              "  ('hypermetrope', 'tear production rate normal'): 6,\n",
              "  ('hypermetrope', 'tear production rate reduced'): 6,\n",
              "  ('myope', 'non astigmatic'): 6,\n",
              "  ('myope', 'tear production rate normal'): 6,\n",
              "  ('myope', 'tear production rate reduced'): 6,\n",
              "  ('non astigmatic', 'tear production rate normal'): 6,\n",
              "  ('non astigmatic', 'tear production rate reduced'): 6}}"
            ]
          },
          "metadata": {},
          "execution_count": 62
        }
      ]
    },
    {
      "cell_type": "markdown",
      "source": [
        "E também todas as regras extraídas, sendo exibidas também suas respectivas métricas de suporte, confiança, lift e convicção."
      ],
      "metadata": {
        "id": "A-O6M7UHdP7U"
      }
    },
    {
      "cell_type": "code",
      "source": [
        "for rule in rules:\n",
        "  print(rule)"
      ],
      "metadata": {
        "id": "COuiQBglYTcR",
        "colab": {
          "base_uri": "https://localhost:8080/"
        },
        "outputId": "da2b8b54-98b1-4f7a-fe9c-33181235f228"
      },
      "execution_count": 63,
      "outputs": [
        {
          "output_type": "stream",
          "name": "stdout",
          "text": [
            "{hypermetrope} -> {astigmatic} (conf: 0.500, supp: 0.250, lift: 1.000, conv: 1.000)\n",
            "{astigmatic} -> {hypermetrope} (conf: 0.500, supp: 0.250, lift: 1.000, conv: 1.000)\n",
            "{myope} -> {astigmatic} (conf: 0.500, supp: 0.250, lift: 1.000, conv: 1.000)\n",
            "{astigmatic} -> {myope} (conf: 0.500, supp: 0.250, lift: 1.000, conv: 1.000)\n",
            "{tear production rate normal} -> {astigmatic} (conf: 0.500, supp: 0.250, lift: 1.000, conv: 1.000)\n",
            "{astigmatic} -> {tear production rate normal} (conf: 0.500, supp: 0.250, lift: 1.000, conv: 1.000)\n",
            "{tear production rate reduced} -> {astigmatic} (conf: 0.500, supp: 0.250, lift: 1.000, conv: 1.000)\n",
            "{astigmatic} -> {tear production rate reduced} (conf: 0.500, supp: 0.250, lift: 1.000, conv: 1.000)\n",
            "{non astigmatic} -> {hypermetrope} (conf: 0.500, supp: 0.250, lift: 1.000, conv: 1.000)\n",
            "{hypermetrope} -> {non astigmatic} (conf: 0.500, supp: 0.250, lift: 1.000, conv: 1.000)\n",
            "{tear production rate normal} -> {hypermetrope} (conf: 0.500, supp: 0.250, lift: 1.000, conv: 1.000)\n",
            "{hypermetrope} -> {tear production rate normal} (conf: 0.500, supp: 0.250, lift: 1.000, conv: 1.000)\n",
            "{tear production rate reduced} -> {hypermetrope} (conf: 0.500, supp: 0.250, lift: 1.000, conv: 1.000)\n",
            "{hypermetrope} -> {tear production rate reduced} (conf: 0.500, supp: 0.250, lift: 1.000, conv: 1.000)\n",
            "{non astigmatic} -> {myope} (conf: 0.500, supp: 0.250, lift: 1.000, conv: 1.000)\n",
            "{myope} -> {non astigmatic} (conf: 0.500, supp: 0.250, lift: 1.000, conv: 1.000)\n",
            "{tear production rate normal} -> {myope} (conf: 0.500, supp: 0.250, lift: 1.000, conv: 1.000)\n",
            "{myope} -> {tear production rate normal} (conf: 0.500, supp: 0.250, lift: 1.000, conv: 1.000)\n",
            "{tear production rate reduced} -> {myope} (conf: 0.500, supp: 0.250, lift: 1.000, conv: 1.000)\n",
            "{myope} -> {tear production rate reduced} (conf: 0.500, supp: 0.250, lift: 1.000, conv: 1.000)\n",
            "{tear production rate normal} -> {non astigmatic} (conf: 0.500, supp: 0.250, lift: 1.000, conv: 1.000)\n",
            "{non astigmatic} -> {tear production rate normal} (conf: 0.500, supp: 0.250, lift: 1.000, conv: 1.000)\n",
            "{tear production rate reduced} -> {non astigmatic} (conf: 0.500, supp: 0.250, lift: 1.000, conv: 1.000)\n",
            "{non astigmatic} -> {tear production rate reduced} (conf: 0.500, supp: 0.250, lift: 1.000, conv: 1.000)\n"
          ]
        }
      ]
    }
  ]
}